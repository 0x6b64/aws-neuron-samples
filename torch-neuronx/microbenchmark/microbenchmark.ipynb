{
    "cells": [
        {
            "attachments": {},
            "cell_type": "markdown",
            "metadata": {},
            "source": [
                "# Microbenchmarking Neuron Devices (Trn1/Inf2)"
            ]
        },
        {
            "attachments": {},
            "cell_type": "markdown",
            "metadata": {},
            "source": [
                "## Introduction\n",
                "\n",
                "This guide reviews the best practices for benchmarking performance of Neuron devices. It shows how to separate compilation and execution time, how to isolate the device time from the end-to-end execution time, how to warm-up the device, and covers few pitfalls one should be aware of. This guide provides an example code, in PyTorch, that can be used as a template for measuring performance.\n",
                "\n",
                "This Jupyter notebook should be run on a Trn1/Inf2 instance (trn1.2xlarge/inf2.xlarge or larger)."
            ]
        },
        {
            "cell_type": "markdown",
            "metadata": {},
            "source": [
                "Verify that this Jupyter notebook is running the Python kernel environment that was set up according to the [PyTorch Installation Guide](https://awsdocs-neuron.readthedocs-hosted.com/en/latest/general/setup/torch-neuronx.html#setup-torch-neuronx). You can select the kernel from the 'Kernel -> Change Kernel' option on the top of this Jupyter notebook page."
            ]
        },
        {
            "attachments": {},
            "cell_type": "markdown",
            "metadata": {},
            "source": [
                "## Example\n",
                "\n",
                "As a motivating example, assume we would like to measure the max throughput of the device when executing matrix multiplication:\n",
                "\n",
                "`nn.Linear(in_features=n, out_features=n, bias=is_add_bias)`\n",
                "\n",
                "Note that nn.Linear can add bias; we will touch on that part later.\n",
                "\n",
                "First we will parametrize the microbenchmark run as follows (those parameters can be modified as needed):\n"
            ]
        },
        {
            "cell_type": "code",
            "execution_count": 1,
            "metadata": {},
            "outputs": [],
            "source": [
                "# Matrix multiplication of size [BATCH_SIZE, MATRIX_DIM, MATRIX_DIM]x[BATCH_SIZE, MATRIX_DIM, MATRIX_DIM]\n",
                "BATCH_SIZE          = 1\n",
                "MATRIX_DIM          = 1024\n",
                "# How many times matrix multiplication is ran in a single loop (recommend using a large number to amortize runtime and framework overheads)\n",
                "LOOP_COUNT          = 1000\n",
                "# Number of timed iterations (recommend using a large number to filter noise)\n",
                "N_TIMED_ITERATIONS  = 1000\n",
                "# Add bias after matrix multiplication (recommended for numerical stability)\n",
                "ADD_BIAS            = True\n",
                "# Additional flags to pass to the compiler\n",
                "NEURON_CC_FLAGS     = \"\""
            ]
        },
        {
            "attachments": {},
            "cell_type": "markdown",
            "metadata": {},
            "source": [
                "We recommend adding bias for numerical stability (avoiding NaNs in computation). Numerical issues are reported back to the user, which can slow down total runtime. For best performance use large matrix sizes (for high utilization), and large loop/iteration counts (to minimize overheads)."
            ]
        },
        {
            "attachments": {},
            "cell_type": "markdown",
            "metadata": {},
            "source": [
                "### Initial Version\n",
                "\n",
                "Let\u2019s write a simple Module that will exercise the Linear layer in a loop (see below). We want to repeat the computation to amortize overheads."
            ]
        },
        {
            "cell_type": "code",
            "execution_count": 2,
            "metadata": {},
            "outputs": [],
            "source": [
                "import torch\n",
                "import torch.nn as nn\n",
                "\n",
                "@torch.no_grad()\n",
                "class Matmult(nn.Module):\n",
                "\n",
                "    def __init__(self, n, is_add_bias, loop_count):\n",
                "        super().__init__()\n",
                "        self.loop_count = loop_count\n",
                "        self.matmult = nn.Linear(in_features=n, out_features=n, bias=is_add_bias)\n",
                "\n",
                "    def forward(self, x):\n",
                "        out = self.matmult(x)\n",
                "        for i in range(1, self.loop_count):\n",
                "            out = self.matmult(out)\n",
                "        return out.mean()"
            ]
        },
        {
            "attachments": {},
            "cell_type": "markdown",
            "metadata": {},
            "source": [
                "Note that we feed the result of the previous matmult to the current one. This is done to make sure we use the result from each matrix multiplication. If, for example, we would have tried to simply repeat the same computation inside the loop, the compiler would have optimized all but the last iteration out:\n",
                "\n",
                "```\n",
                "    def forward(self, x):\n",
                "        input = x\n",
                "        for i in range(0, self.loop_count):\n",
                "            out = self.matmult(input) \n",
                "```"
            ]
        },
        {
            "attachments": {},
            "cell_type": "markdown",
            "metadata": {},
            "source": [
                "### Counting time\n",
                "\n",
                "Make sure to use a sufficiently-granular counter. We recommend using time.perf_counter, which uses the clock with the highest available resolution. The Neuron microbenchmark samples, contains a simple utility that is adequate for perf timing. Using the timer class, we can decorate the code to measure runtime of each section."
            ]
        },
        {
            "cell_type": "code",
            "execution_count": 3,
            "metadata": {},
            "outputs": [],
            "source": [
                "import ubench_utils "
            ]
        },
        {
            "attachments": {},
            "cell_type": "markdown",
            "metadata": {},
            "source": [
                "### Using PyTorch-Neuron trace\n",
                "There are two methods to instantiate execution on neuron devices: (1) using [Neuron XLA device API](https://awsdocs-neuron.readthedocs-hosted.com/en/latest/frameworks/torch/torch-neuronx/programming-guide/training/pytorch-neuron-programming-guide.html), and (2) using [PyTorch-Neuron trace API](https://awsdocs-neuron.readthedocs-hosted.com/en/latest/frameworks/torch/torch-neuron/api-compilation-python-api.html). For benchmarking, we prefer using the PyTorch-Neuron trace, because it introduces minimal runtime and application overheads (see explanation of the [Lazy mode](https://awsdocs-neuron.readthedocs-hosted.com/en/latest/frameworks/torch/torch-neuronx/programming-guide/training/pytorch-neuron-programming-guide.html#understand-the-lazy-mode-in-pytorch-neuron) operation of Neuron XLA)."
            ]
        },
        {
            "cell_type": "code",
            "execution_count": 4,
            "metadata": {},
            "outputs": [],
            "source": [
                "import torch_neuronx\n",
                "\n",
                "# Create the model\n",
                "model = Matmult(MATRIX_DIM, ADD_BIAS, LOOP_COUNT)\n",
                "# Create sample input\n",
                "matrix_cpu = torch.randn([BATCH_SIZE, MATRIX_DIM, MATRIX_DIM], dtype=torch.float32)"
            ]
        },
        {
            "attachments": {},
            "cell_type": "markdown",
            "metadata": {},
            "source": [
                "PyTorch-Neuron trace also makes it easy to separate compilation:"
            ]
        },
        {
            "cell_type": "code",
            "execution_count": 5,
            "metadata": {},
            "outputs": [],
            "source": [
                "#Compile model\n",
                "with ubench_utils.Timer() as compilation_time:\n",
                "    trace = torch_neuronx.trace(model, \n",
                "                                matrix_cpu, \n",
                "                                compiler_args=NEURON_CC_FLAGS)\n",
                "\n",
                "# Save model to disk \n",
                "torch.jit.save(trace, 'model.pt')"
            ]
        },
        {
            "attachments": {},
            "cell_type": "markdown",
            "metadata": {},
            "source": [
                " and execution:"
            ]
        },
        {
            "cell_type": "code",
            "execution_count": 6,
            "metadata": {},
            "outputs": [],
            "source": [
                "# Load model on NeuronCore\n",
                "neuron_model = torch.jit.load('model.pt')\n",
                "\n",
                "# Warmup\n",
                "with ubench_utils.Timer() as warmup_model_time:\n",
                "    out = neuron_model(matrix_cpu)\n",
                "\n",
                "# Timed run\n",
                "with ubench_utils.Timer() as benchmark_time:\n",
                "    for i in range(N_TIMED_ITERATIONS):\n",
                "        out = neuron_model(matrix_cpu)"
            ]
        },
        {
            "attachments": {},
            "cell_type": "markdown",
            "metadata": {},
            "source": [
                "We can then report time taken for each step:"
            ]
        },
        {
            "cell_type": "code",
            "execution_count": 7,
            "metadata": {},
            "outputs": [
                {
                    "name": "stdout",
                    "output_type": "stream",
                    "text": [
                        "Compilation took 236.5306s, warmup took 0.0288s, benchmark took 27.6601s\n"
                    ]
                }
            ],
            "source": [
                "print(\"\"\"Compilation took {:.4f}s, warmup took {:.4f}s, benchmark took {:.4f}s\"\"\"\n",
                "     .format(compilation_time(), \n",
                "             warmup_model_time(), \n",
                "             benchmark_time()))  "
            ]
        },
        {
            "attachments": {},
            "cell_type": "markdown",
            "metadata": {},
            "source": [
                "For the timed run, we can calculate how much time each execution took, and what is the achieved performance:"
            ]
        },
        {
            "cell_type": "code",
            "execution_count": 8,
            "metadata": {},
            "outputs": [
                {
                    "name": "stdout",
                    "output_type": "stream",
                    "text": [
                        "Timed run: overall runtime = 27.6601s, runtime per iteration = 0.0276601s, timed iterations = 1000\n",
                        "PE TOPS = 77.6383\n"
                    ]
                }
            ],
            "source": [
                "print(\"Timed run: overall runtime = {:2g}s, runtime per iteration = {:2g}s, timed iterations = {}\"\n",
                "    .format(benchmark_time(),\n",
                "            benchmark_time() / N_TIMED_ITERATIONS, N_TIMED_ITERATIONS))\n",
                "\n",
                "# Total operation count\n",
                "top_per_run = BATCH_SIZE*(MATRIX_DIM**3)*N_TIMED_ITERATIONS*LOOP_COUNT*2\n",
                "# Tera operations per second (TOPS)\n",
                "tops = (top_per_run/benchmark_time())/1e12\n",
                "print(\"PE TOPS = {:2g}\".format(tops))"
            ]
        },
        {
            "attachments": {},
            "cell_type": "markdown",
            "metadata": {},
            "source": [
                "## Full example\n",
                "\n",
                "A complete, parametrizable example of matrix multiplication benchmarks is in [matmult_linear.py](matmult_linear.py). It allows setting the batch size, matrix size, loop and iteration count, as well as additional parameters (listed using `python matmult_linear.py -h`). Example usage:\n",
                "\n",
                "```\n",
                "python matmult_linear.py --batch_size 1 --matrix_dim 1024 --loop_count 1000 --num_warmup_iterations 2 --num_timed_iterations 1000 --add_bias\n",
                "```\n",
                "\n",
                "If you ran the code is notebook, please terminate it before attempting to run any other code on the neuron devices."
            ]
        },
        {
            "attachments": {},
            "cell_type": "markdown",
            "metadata": {},
            "source": [
                "## Benchmarking other workloads\n",
                "\n",
                "The methodology presented above can be extended to other workloads (even full models), using the following steps:\n",
                "\n",
                "- Modify the `class Matmult` to reflect your workload.\n",
                "- Modify the parameters (e.g. `BATCH_SIZE`, `MATRIX_DIM`) to reflect your workload.\n",
                "- Modify the input (e.g. `matrix_cpu`) as necessary for your workload.\n",
                "- Modify the `top_per_run` formula according to your workload."
            ]
        }
    ],
    "metadata": {
        "kernelspec": {
            "display_name": "venv",
            "language": "python",
            "name": "venv"
        },
        "language_info": {
            "codemirror_mode": {
                "name": "ipython",
                "version": 3
            },
            "file_extension": ".py",
            "mimetype": "text/x-python",
            "name": "python",
            "nbconvert_exporter": "python",
            "pygments_lexer": "ipython3",
            "version": "3.7.16"
        },
        "orig_nbformat": 4
    },
    "nbformat": 4,
    "nbformat_minor": 2
}